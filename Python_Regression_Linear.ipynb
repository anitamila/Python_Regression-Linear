{
  "nbformat": 4,
  "nbformat_minor": 0,
  "metadata": {
    "colab": {
      "provenance": [],
      "authorship_tag": "ABX9TyPg62SaCiA0BPPyyFNI/CH5",
      "include_colab_link": true
    },
    "kernelspec": {
      "name": "python3",
      "display_name": "Python 3"
    },
    "language_info": {
      "name": "python"
    }
  },
  "cells": [
    {
      "cell_type": "markdown",
      "metadata": {
        "id": "view-in-github",
        "colab_type": "text"
      },
      "source": [
        "<a href=\"https://colab.research.google.com/github/anitamila/Python_Regression-Linear/blob/master/Python_Regression_Linear.ipynb\" target=\"_parent\"><img src=\"https://colab.research.google.com/assets/colab-badge.svg\" alt=\"Open In Colab\"/></a>"
      ]
    },
    {
      "cell_type": "markdown",
      "source": [
        "# Regression Linear"
      ],
      "metadata": {
        "id": "I_h_MyAdoC3e"
      }
    },
    {
      "cell_type": "markdown",
      "source": [
        "## Import Library"
      ],
      "metadata": {
        "id": "VautRB1GZXon"
      }
    },
    {
      "cell_type": "code",
      "execution_count": null,
      "metadata": {
        "id": "S3bwoIlq2XCE"
      },
      "outputs": [],
      "source": [
        "# Import library\n",
        "import pandas as pd\n",
        "import matplotlib.pyplot as plt\n",
        "import numpy as np\n",
        "import seaborn as sns\n",
        "from sklearn.model_selection import train_test_split\n",
        "from sklearn.linear_model import LinearRegression\n",
        "from sklearn.metrics import mean_absolute_error, mean_absolute_percentage_error, r2_score"
      ]
    },
    {
      "cell_type": "code",
      "source": [
        "# Load dataset\n",
        "dataset = pd.read_csv('regression_data.csv')"
      ],
      "metadata": {
        "id": "KHomNrVt2iVB"
      },
      "execution_count": null,
      "outputs": []
    },
    {
      "cell_type": "markdown",
      "source": [
        "## Load Data"
      ],
      "metadata": {
        "id": "9R7ZnVyPZd87"
      }
    },
    {
      "cell_type": "code",
      "source": [
        "# Show dataset\n",
        "print(\"Dataset preview:\")\n",
        "print(dataset.head())"
      ],
      "metadata": {
        "colab": {
          "base_uri": "https://localhost:8080/"
        },
        "id": "2Ntxh1ej2lSR",
        "outputId": "424e3ac6-3c16-4bc0-cc17-f2b9850f38f0"
      },
      "execution_count": null,
      "outputs": [
        {
          "output_type": "stream",
          "name": "stdout",
          "text": [
            "Dataset preview:\n",
            "   gre_score  toefl_score  univ_ranking  motiv_letter_strength  \\\n",
            "0        337          118             4                    4.5   \n",
            "1        324          107             4                    4.0   \n",
            "2        316          104             3                    3.0   \n",
            "3        322          110             3                    3.5   \n",
            "4        314          103             2                    2.0   \n",
            "\n",
            "   recommendation_strength   gpa  research_exp  admit_prob  \n",
            "0                      4.5  9.65             1        0.92  \n",
            "1                      4.5  8.87             1        0.76  \n",
            "2                      3.5  8.00             1        0.72  \n",
            "3                      2.5  8.67             1        0.80  \n",
            "4                      3.0  8.21             0        0.65  \n"
          ]
        }
      ]
    },
    {
      "cell_type": "code",
      "source": [
        "# Data Understanding\n",
        "dataset.info()"
      ],
      "metadata": {
        "colab": {
          "base_uri": "https://localhost:8080/"
        },
        "id": "GvNGW7KSY3Si",
        "outputId": "73c5aab6-3d6d-42b1-d6c9-2e3ff95143c0"
      },
      "execution_count": null,
      "outputs": [
        {
          "output_type": "stream",
          "name": "stdout",
          "text": [
            "<class 'pandas.core.frame.DataFrame'>\n",
            "RangeIndex: 500 entries, 0 to 499\n",
            "Data columns (total 8 columns):\n",
            " #   Column                   Non-Null Count  Dtype  \n",
            "---  ------                   --------------  -----  \n",
            " 0   gre_score                500 non-null    int64  \n",
            " 1   toefl_score              500 non-null    int64  \n",
            " 2   univ_ranking             500 non-null    int64  \n",
            " 3   motiv_letter_strength    500 non-null    float64\n",
            " 4   recommendation_strength  500 non-null    float64\n",
            " 5   gpa                      500 non-null    float64\n",
            " 6   research_exp             500 non-null    int64  \n",
            " 7   admit_prob               500 non-null    float64\n",
            "dtypes: float64(4), int64(4)\n",
            "memory usage: 31.4 KB\n"
          ]
        }
      ]
    },
    {
      "cell_type": "code",
      "source": [
        "dataset.describe()"
      ],
      "metadata": {
        "colab": {
          "base_uri": "https://localhost:8080/",
          "height": 300
        },
        "id": "8_EvSvE0Y7Cu",
        "outputId": "342c5510-f499-4297-ad7c-e4e9594424fb"
      },
      "execution_count": null,
      "outputs": [
        {
          "output_type": "execute_result",
          "data": {
            "text/plain": [
              "        gre_score  toefl_score  univ_ranking  motiv_letter_strength  \\\n",
              "count  500.000000   500.000000    500.000000             500.000000   \n",
              "mean   316.472000   107.192000      3.114000               3.374000   \n",
              "std     11.295148     6.081868      1.143512               0.991004   \n",
              "min    290.000000    92.000000      1.000000               1.000000   \n",
              "25%    308.000000   103.000000      2.000000               2.500000   \n",
              "50%    317.000000   107.000000      3.000000               3.500000   \n",
              "75%    325.000000   112.000000      4.000000               4.000000   \n",
              "max    340.000000   120.000000      5.000000               5.000000   \n",
              "\n",
              "       recommendation_strength         gpa  research_exp  admit_prob  \n",
              "count                500.00000  500.000000    500.000000   500.00000  \n",
              "mean                   3.48400    8.576440      0.560000     0.72174  \n",
              "std                    0.92545    0.604813      0.496884     0.14114  \n",
              "min                    1.00000    6.800000      0.000000     0.34000  \n",
              "25%                    3.00000    8.127500      0.000000     0.63000  \n",
              "50%                    3.50000    8.560000      1.000000     0.72000  \n",
              "75%                    4.00000    9.040000      1.000000     0.82000  \n",
              "max                    5.00000    9.920000      1.000000     0.97000  "
            ],
            "text/html": [
              "\n",
              "  <div id=\"df-932f3d1d-cfec-4935-b8ef-00ba310c5c50\" class=\"colab-df-container\">\n",
              "    <div>\n",
              "<style scoped>\n",
              "    .dataframe tbody tr th:only-of-type {\n",
              "        vertical-align: middle;\n",
              "    }\n",
              "\n",
              "    .dataframe tbody tr th {\n",
              "        vertical-align: top;\n",
              "    }\n",
              "\n",
              "    .dataframe thead th {\n",
              "        text-align: right;\n",
              "    }\n",
              "</style>\n",
              "<table border=\"1\" class=\"dataframe\">\n",
              "  <thead>\n",
              "    <tr style=\"text-align: right;\">\n",
              "      <th></th>\n",
              "      <th>gre_score</th>\n",
              "      <th>toefl_score</th>\n",
              "      <th>univ_ranking</th>\n",
              "      <th>motiv_letter_strength</th>\n",
              "      <th>recommendation_strength</th>\n",
              "      <th>gpa</th>\n",
              "      <th>research_exp</th>\n",
              "      <th>admit_prob</th>\n",
              "    </tr>\n",
              "  </thead>\n",
              "  <tbody>\n",
              "    <tr>\n",
              "      <th>count</th>\n",
              "      <td>500.000000</td>\n",
              "      <td>500.000000</td>\n",
              "      <td>500.000000</td>\n",
              "      <td>500.000000</td>\n",
              "      <td>500.00000</td>\n",
              "      <td>500.000000</td>\n",
              "      <td>500.000000</td>\n",
              "      <td>500.00000</td>\n",
              "    </tr>\n",
              "    <tr>\n",
              "      <th>mean</th>\n",
              "      <td>316.472000</td>\n",
              "      <td>107.192000</td>\n",
              "      <td>3.114000</td>\n",
              "      <td>3.374000</td>\n",
              "      <td>3.48400</td>\n",
              "      <td>8.576440</td>\n",
              "      <td>0.560000</td>\n",
              "      <td>0.72174</td>\n",
              "    </tr>\n",
              "    <tr>\n",
              "      <th>std</th>\n",
              "      <td>11.295148</td>\n",
              "      <td>6.081868</td>\n",
              "      <td>1.143512</td>\n",
              "      <td>0.991004</td>\n",
              "      <td>0.92545</td>\n",
              "      <td>0.604813</td>\n",
              "      <td>0.496884</td>\n",
              "      <td>0.14114</td>\n",
              "    </tr>\n",
              "    <tr>\n",
              "      <th>min</th>\n",
              "      <td>290.000000</td>\n",
              "      <td>92.000000</td>\n",
              "      <td>1.000000</td>\n",
              "      <td>1.000000</td>\n",
              "      <td>1.00000</td>\n",
              "      <td>6.800000</td>\n",
              "      <td>0.000000</td>\n",
              "      <td>0.34000</td>\n",
              "    </tr>\n",
              "    <tr>\n",
              "      <th>25%</th>\n",
              "      <td>308.000000</td>\n",
              "      <td>103.000000</td>\n",
              "      <td>2.000000</td>\n",
              "      <td>2.500000</td>\n",
              "      <td>3.00000</td>\n",
              "      <td>8.127500</td>\n",
              "      <td>0.000000</td>\n",
              "      <td>0.63000</td>\n",
              "    </tr>\n",
              "    <tr>\n",
              "      <th>50%</th>\n",
              "      <td>317.000000</td>\n",
              "      <td>107.000000</td>\n",
              "      <td>3.000000</td>\n",
              "      <td>3.500000</td>\n",
              "      <td>3.50000</td>\n",
              "      <td>8.560000</td>\n",
              "      <td>1.000000</td>\n",
              "      <td>0.72000</td>\n",
              "    </tr>\n",
              "    <tr>\n",
              "      <th>75%</th>\n",
              "      <td>325.000000</td>\n",
              "      <td>112.000000</td>\n",
              "      <td>4.000000</td>\n",
              "      <td>4.000000</td>\n",
              "      <td>4.00000</td>\n",
              "      <td>9.040000</td>\n",
              "      <td>1.000000</td>\n",
              "      <td>0.82000</td>\n",
              "    </tr>\n",
              "    <tr>\n",
              "      <th>max</th>\n",
              "      <td>340.000000</td>\n",
              "      <td>120.000000</td>\n",
              "      <td>5.000000</td>\n",
              "      <td>5.000000</td>\n",
              "      <td>5.00000</td>\n",
              "      <td>9.920000</td>\n",
              "      <td>1.000000</td>\n",
              "      <td>0.97000</td>\n",
              "    </tr>\n",
              "  </tbody>\n",
              "</table>\n",
              "</div>\n",
              "    <div class=\"colab-df-buttons\">\n",
              "\n",
              "  <div class=\"colab-df-container\">\n",
              "    <button class=\"colab-df-convert\" onclick=\"convertToInteractive('df-932f3d1d-cfec-4935-b8ef-00ba310c5c50')\"\n",
              "            title=\"Convert this dataframe to an interactive table.\"\n",
              "            style=\"display:none;\">\n",
              "\n",
              "  <svg xmlns=\"http://www.w3.org/2000/svg\" height=\"24px\" viewBox=\"0 -960 960 960\">\n",
              "    <path d=\"M120-120v-720h720v720H120Zm60-500h600v-160H180v160Zm220 220h160v-160H400v160Zm0 220h160v-160H400v160ZM180-400h160v-160H180v160Zm440 0h160v-160H620v160ZM180-180h160v-160H180v160Zm440 0h160v-160H620v160Z\"/>\n",
              "  </svg>\n",
              "    </button>\n",
              "\n",
              "  <style>\n",
              "    .colab-df-container {\n",
              "      display:flex;\n",
              "      gap: 12px;\n",
              "    }\n",
              "\n",
              "    .colab-df-convert {\n",
              "      background-color: #E8F0FE;\n",
              "      border: none;\n",
              "      border-radius: 50%;\n",
              "      cursor: pointer;\n",
              "      display: none;\n",
              "      fill: #1967D2;\n",
              "      height: 32px;\n",
              "      padding: 0 0 0 0;\n",
              "      width: 32px;\n",
              "    }\n",
              "\n",
              "    .colab-df-convert:hover {\n",
              "      background-color: #E2EBFA;\n",
              "      box-shadow: 0px 1px 2px rgba(60, 64, 67, 0.3), 0px 1px 3px 1px rgba(60, 64, 67, 0.15);\n",
              "      fill: #174EA6;\n",
              "    }\n",
              "\n",
              "    .colab-df-buttons div {\n",
              "      margin-bottom: 4px;\n",
              "    }\n",
              "\n",
              "    [theme=dark] .colab-df-convert {\n",
              "      background-color: #3B4455;\n",
              "      fill: #D2E3FC;\n",
              "    }\n",
              "\n",
              "    [theme=dark] .colab-df-convert:hover {\n",
              "      background-color: #434B5C;\n",
              "      box-shadow: 0px 1px 3px 1px rgba(0, 0, 0, 0.15);\n",
              "      filter: drop-shadow(0px 1px 2px rgba(0, 0, 0, 0.3));\n",
              "      fill: #FFFFFF;\n",
              "    }\n",
              "  </style>\n",
              "\n",
              "    <script>\n",
              "      const buttonEl =\n",
              "        document.querySelector('#df-932f3d1d-cfec-4935-b8ef-00ba310c5c50 button.colab-df-convert');\n",
              "      buttonEl.style.display =\n",
              "        google.colab.kernel.accessAllowed ? 'block' : 'none';\n",
              "\n",
              "      async function convertToInteractive(key) {\n",
              "        const element = document.querySelector('#df-932f3d1d-cfec-4935-b8ef-00ba310c5c50');\n",
              "        const dataTable =\n",
              "          await google.colab.kernel.invokeFunction('convertToInteractive',\n",
              "                                                    [key], {});\n",
              "        if (!dataTable) return;\n",
              "\n",
              "        const docLinkHtml = 'Like what you see? Visit the ' +\n",
              "          '<a target=\"_blank\" href=https://colab.research.google.com/notebooks/data_table.ipynb>data table notebook</a>'\n",
              "          + ' to learn more about interactive tables.';\n",
              "        element.innerHTML = '';\n",
              "        dataTable['output_type'] = 'display_data';\n",
              "        await google.colab.output.renderOutput(dataTable, element);\n",
              "        const docLink = document.createElement('div');\n",
              "        docLink.innerHTML = docLinkHtml;\n",
              "        element.appendChild(docLink);\n",
              "      }\n",
              "    </script>\n",
              "  </div>\n",
              "\n",
              "\n",
              "<div id=\"df-04b491d0-a07f-4b53-85ca-936b830333f4\">\n",
              "  <button class=\"colab-df-quickchart\" onclick=\"quickchart('df-04b491d0-a07f-4b53-85ca-936b830333f4')\"\n",
              "            title=\"Suggest charts\"\n",
              "            style=\"display:none;\">\n",
              "\n",
              "<svg xmlns=\"http://www.w3.org/2000/svg\" height=\"24px\"viewBox=\"0 0 24 24\"\n",
              "     width=\"24px\">\n",
              "    <g>\n",
              "        <path d=\"M19 3H5c-1.1 0-2 .9-2 2v14c0 1.1.9 2 2 2h14c1.1 0 2-.9 2-2V5c0-1.1-.9-2-2-2zM9 17H7v-7h2v7zm4 0h-2V7h2v10zm4 0h-2v-4h2v4z\"/>\n",
              "    </g>\n",
              "</svg>\n",
              "  </button>\n",
              "\n",
              "<style>\n",
              "  .colab-df-quickchart {\n",
              "      --bg-color: #E8F0FE;\n",
              "      --fill-color: #1967D2;\n",
              "      --hover-bg-color: #E2EBFA;\n",
              "      --hover-fill-color: #174EA6;\n",
              "      --disabled-fill-color: #AAA;\n",
              "      --disabled-bg-color: #DDD;\n",
              "  }\n",
              "\n",
              "  [theme=dark] .colab-df-quickchart {\n",
              "      --bg-color: #3B4455;\n",
              "      --fill-color: #D2E3FC;\n",
              "      --hover-bg-color: #434B5C;\n",
              "      --hover-fill-color: #FFFFFF;\n",
              "      --disabled-bg-color: #3B4455;\n",
              "      --disabled-fill-color: #666;\n",
              "  }\n",
              "\n",
              "  .colab-df-quickchart {\n",
              "    background-color: var(--bg-color);\n",
              "    border: none;\n",
              "    border-radius: 50%;\n",
              "    cursor: pointer;\n",
              "    display: none;\n",
              "    fill: var(--fill-color);\n",
              "    height: 32px;\n",
              "    padding: 0;\n",
              "    width: 32px;\n",
              "  }\n",
              "\n",
              "  .colab-df-quickchart:hover {\n",
              "    background-color: var(--hover-bg-color);\n",
              "    box-shadow: 0 1px 2px rgba(60, 64, 67, 0.3), 0 1px 3px 1px rgba(60, 64, 67, 0.15);\n",
              "    fill: var(--button-hover-fill-color);\n",
              "  }\n",
              "\n",
              "  .colab-df-quickchart-complete:disabled,\n",
              "  .colab-df-quickchart-complete:disabled:hover {\n",
              "    background-color: var(--disabled-bg-color);\n",
              "    fill: var(--disabled-fill-color);\n",
              "    box-shadow: none;\n",
              "  }\n",
              "\n",
              "  .colab-df-spinner {\n",
              "    border: 2px solid var(--fill-color);\n",
              "    border-color: transparent;\n",
              "    border-bottom-color: var(--fill-color);\n",
              "    animation:\n",
              "      spin 1s steps(1) infinite;\n",
              "  }\n",
              "\n",
              "  @keyframes spin {\n",
              "    0% {\n",
              "      border-color: transparent;\n",
              "      border-bottom-color: var(--fill-color);\n",
              "      border-left-color: var(--fill-color);\n",
              "    }\n",
              "    20% {\n",
              "      border-color: transparent;\n",
              "      border-left-color: var(--fill-color);\n",
              "      border-top-color: var(--fill-color);\n",
              "    }\n",
              "    30% {\n",
              "      border-color: transparent;\n",
              "      border-left-color: var(--fill-color);\n",
              "      border-top-color: var(--fill-color);\n",
              "      border-right-color: var(--fill-color);\n",
              "    }\n",
              "    40% {\n",
              "      border-color: transparent;\n",
              "      border-right-color: var(--fill-color);\n",
              "      border-top-color: var(--fill-color);\n",
              "    }\n",
              "    60% {\n",
              "      border-color: transparent;\n",
              "      border-right-color: var(--fill-color);\n",
              "    }\n",
              "    80% {\n",
              "      border-color: transparent;\n",
              "      border-right-color: var(--fill-color);\n",
              "      border-bottom-color: var(--fill-color);\n",
              "    }\n",
              "    90% {\n",
              "      border-color: transparent;\n",
              "      border-bottom-color: var(--fill-color);\n",
              "    }\n",
              "  }\n",
              "</style>\n",
              "\n",
              "  <script>\n",
              "    async function quickchart(key) {\n",
              "      const quickchartButtonEl =\n",
              "        document.querySelector('#' + key + ' button');\n",
              "      quickchartButtonEl.disabled = true;  // To prevent multiple clicks.\n",
              "      quickchartButtonEl.classList.add('colab-df-spinner');\n",
              "      try {\n",
              "        const charts = await google.colab.kernel.invokeFunction(\n",
              "            'suggestCharts', [key], {});\n",
              "      } catch (error) {\n",
              "        console.error('Error during call to suggestCharts:', error);\n",
              "      }\n",
              "      quickchartButtonEl.classList.remove('colab-df-spinner');\n",
              "      quickchartButtonEl.classList.add('colab-df-quickchart-complete');\n",
              "    }\n",
              "    (() => {\n",
              "      let quickchartButtonEl =\n",
              "        document.querySelector('#df-04b491d0-a07f-4b53-85ca-936b830333f4 button');\n",
              "      quickchartButtonEl.style.display =\n",
              "        google.colab.kernel.accessAllowed ? 'block' : 'none';\n",
              "    })();\n",
              "  </script>\n",
              "</div>\n",
              "    </div>\n",
              "  </div>\n"
            ]
          },
          "metadata": {},
          "execution_count": 6
        }
      ]
    },
    {
      "cell_type": "markdown",
      "source": [
        "## Data Cleansing"
      ],
      "metadata": {
        "id": "2JSVaahkZpe9"
      }
    },
    {
      "cell_type": "code",
      "source": [
        "# Missing Value\n",
        "dataset.isnull().sum()"
      ],
      "metadata": {
        "colab": {
          "base_uri": "https://localhost:8080/"
        },
        "id": "JL0zXkqSZMu-",
        "outputId": "8930440e-97be-4214-e661-f5b3797b90f6"
      },
      "execution_count": null,
      "outputs": [
        {
          "output_type": "execute_result",
          "data": {
            "text/plain": [
              "gre_score                  0\n",
              "toefl_score                0\n",
              "univ_ranking               0\n",
              "motiv_letter_strength      0\n",
              "recommendation_strength    0\n",
              "gpa                        0\n",
              "research_exp               0\n",
              "admit_prob                 0\n",
              "dtype: int64"
            ]
          },
          "metadata": {},
          "execution_count": 7
        }
      ]
    },
    {
      "cell_type": "code",
      "source": [
        "# Redundancy Data\n",
        "dataset.duplicated().sum()"
      ],
      "metadata": {
        "colab": {
          "base_uri": "https://localhost:8080/"
        },
        "id": "LySFzzYBZvBm",
        "outputId": "cf85c151-5981-48c7-f1a6-847346b469a9"
      },
      "execution_count": null,
      "outputs": [
        {
          "output_type": "execute_result",
          "data": {
            "text/plain": [
              "0"
            ]
          },
          "metadata": {},
          "execution_count": 8
        }
      ]
    },
    {
      "cell_type": "markdown",
      "source": [
        "## Correlation Data"
      ],
      "metadata": {
        "id": "Y7Sge2gk7zFk"
      }
    },
    {
      "cell_type": "code",
      "source": [
        "plt.figure(figsize=(10,8))\n",
        "sns.pairplot(data=dataset, x_vars=['gre_score','toefl_score','univ_ranking','motiv_letter_strength',\n",
        "                                   'recommendation_strength','gpa','research_exp'], y_vars=['admit_prob'],\n",
        "             size=5, aspect=0.75)\n",
        "plt.show()"
      ],
      "metadata": {
        "colab": {
          "base_uri": "https://localhost:8080/",
          "height": 353
        },
        "id": "RQUL6Ywri-uY",
        "outputId": "ac572e58-cf0d-4ac8-dbc4-2602fe361bbb"
      },
      "execution_count": null,
      "outputs": [
        {
          "output_type": "stream",
          "name": "stderr",
          "text": [
            "/usr/local/lib/python3.10/dist-packages/seaborn/axisgrid.py:2100: UserWarning: The `size` parameter has been renamed to `height`; please update your code.\n",
            "  warnings.warn(msg, UserWarning)\n"
          ]
        },
        {
          "output_type": "display_data",
          "data": {
            "text/plain": [
              "<Figure size 1000x800 with 0 Axes>"
            ]
          },
          "metadata": {}
        },
        {
          "output_type": "display_data",
          "data": {
            "text/plain": [
              "<Figure size 2625x500 with 7 Axes>"
            ],
            "image/png": "[encoded data removed]"
          },
          "metadata": {}
        }
      ]
    },
    {
      "cell_type": "code",
      "source": [
        "# Correlation value of independent variable and dependent variable\n",
        "dataset.corr().style.background_gradient().set_precision(2)"
      ],
      "metadata": {
        "colab": {
          "base_uri": "https://localhost:8080/",
          "height": 335
        },
        "id": "K4mhl_33biRx",
        "outputId": "09ba5f65-d6f9-4bed-a3cf-975817990b2b"
      },
      "execution_count": null,
      "outputs": [
        {
          "output_type": "stream",
          "name": "stderr",
          "text": [
            "<ipython-input-11-3c224451b2b8>:1: FutureWarning: this method is deprecated in favour of `Styler.format(precision=..)`\n",
            "  dataset.corr().style.background_gradient().set_precision(2)\n"
          ]
        },
        {
          "output_type": "execute_result",
          "data": {
            "text/plain": [
              "<pandas.io.formats.style.Styler at 0x7d619b6dd4e0>"
            ],
            "text/html": [
              "<style type=\"text/css\">\n",
              "#T_7d8e9_row0_col0, #T_7d8e9_row1_col1, #T_7d8e9_row2_col2, #T_7d8e9_row3_col3, #T_7d8e9_row4_col4, #T_7d8e9_row5_col5, #T_7d8e9_row6_col6, #T_7d8e9_row7_col7 {\n",
              "  background-color: #023858;\n",
              "  color: #f1f1f1;\n",
              "}\n",
              "#T_7d8e9_row0_col1 {\n",
              "  background-color: #2182b9;\n",
              "  color: #f1f1f1;\n",
              "}\n",
              "#T_7d8e9_row0_col2 {\n",
              "  background-color: #a9bfdc;\n",
              "  color: #000000;\n",
              "}\n",
              "#T_7d8e9_row0_col3 {\n",
              "  background-color: #b0c2de;\n",
              "  color: #000000;\n",
              "}\n",
              "#T_7d8e9_row0_col4 {\n",
              "  background-color: #d2d2e7;\n",
              "  color: #000000;\n",
              "}\n",
              "#T_7d8e9_row0_col5 {\n",
              "  background-color: #2c89bd;\n",
              "  color: #f1f1f1;\n",
              "}\n",
              "#T_7d8e9_row0_col6, #T_7d8e9_row3_col7 {\n",
              "  background-color: #bfc9e1;\n",
              "  color: #000000;\n",
              "}\n",
              "#T_7d8e9_row0_col7 {\n",
              "  background-color: #4a98c5;\n",
              "  color: #f1f1f1;\n",
              "}\n",
              "#T_7d8e9_row1_col0, #T_7d8e9_row5_col0 {\n",
              "  background-color: #328dbf;\n",
              "  color: #f1f1f1;\n",
              "}\n",
              "#T_7d8e9_row1_col2 {\n",
              "  background-color: #a1bbda;\n",
              "  color: #000000;\n",
              "}\n",
              "#T_7d8e9_row1_col3 {\n",
              "  background-color: #9cb9d9;\n",
              "  color: #000000;\n",
              "}\n",
              "#T_7d8e9_row1_col4 {\n",
              "  background-color: #cacee5;\n",
              "  color: #000000;\n",
              "}\n",
              "#T_7d8e9_row1_col5 {\n",
              "  background-color: #3991c1;\n",
              "  color: #f1f1f1;\n",
              "}\n",
              "#T_7d8e9_row1_col6 {\n",
              "  background-color: #e7e3f0;\n",
              "  color: #000000;\n",
              "}\n",
              "#T_7d8e9_row1_col7, #T_7d8e9_row2_col3 {\n",
              "  background-color: #60a1ca;\n",
              "  color: #f1f1f1;\n",
              "}\n",
              "#T_7d8e9_row2_col0 {\n",
              "  background-color: #d4d4e8;\n",
              "  color: #000000;\n",
              "}\n",
              "#T_7d8e9_row2_col1 {\n",
              "  background-color: #b1c2de;\n",
              "  color: #000000;\n",
              "}\n",
              "#T_7d8e9_row2_col4 {\n",
              "  background-color: #a5bddb;\n",
              "  color: #000000;\n",
              "}\n",
              "#T_7d8e9_row2_col5 {\n",
              "  background-color: #99b8d8;\n",
              "  color: #000000;\n",
              "}\n",
              "#T_7d8e9_row2_col6 {\n",
              "  background-color: #f2ecf5;\n",
              "  color: #000000;\n",
              "}\n",
              "#T_7d8e9_row2_col7, #T_7d8e9_row4_col2 {\n",
              "  background-color: #b9c6e0;\n",
              "  color: #000000;\n",
              "}\n",
              "#T_7d8e9_row3_col0 {\n",
              "  background-color: #dfddec;\n",
              "  color: #000000;\n",
              "}\n",
              "#T_7d8e9_row3_col1 {\n",
              "  background-color: #b4c4df;\n",
              "  color: #000000;\n",
              "}\n",
              "#T_7d8e9_row3_col2 {\n",
              "  background-color: #67a4cc;\n",
              "  color: #f1f1f1;\n",
              "}\n",
              "#T_7d8e9_row3_col4 {\n",
              "  background-color: #83afd3;\n",
              "  color: #f1f1f1;\n",
              "}\n",
              "#T_7d8e9_row3_col5, #T_7d8e9_row5_col4 {\n",
              "  background-color: #93b5d6;\n",
              "  color: #000000;\n",
              "}\n",
              "#T_7d8e9_row3_col6 {\n",
              "  background-color: #f7f0f7;\n",
              "  color: #000000;\n",
              "}\n",
              "#T_7d8e9_row4_col0, #T_7d8e9_row4_col6, #T_7d8e9_row6_col1, #T_7d8e9_row6_col2, #T_7d8e9_row6_col3, #T_7d8e9_row6_col4, #T_7d8e9_row6_col5, #T_7d8e9_row6_col7 {\n",
              "  background-color: #fff7fb;\n",
              "  color: #000000;\n",
              "}\n",
              "#T_7d8e9_row4_col1 {\n",
              "  background-color: #e9e5f1;\n",
              "  color: #000000;\n",
              "}\n",
              "#T_7d8e9_row4_col3 {\n",
              "  background-color: #8fb4d6;\n",
              "  color: #000000;\n",
              "}\n",
              "#T_7d8e9_row4_col5 {\n",
              "  background-color: #c9cee4;\n",
              "  color: #000000;\n",
              "}\n",
              "#T_7d8e9_row4_col7 {\n",
              "  background-color: #d7d6e9;\n",
              "  color: #000000;\n",
              "}\n",
              "#T_7d8e9_row5_col1 {\n",
              "  background-color: #2d8abd;\n",
              "  color: #f1f1f1;\n",
              "}\n",
              "#T_7d8e9_row5_col2 {\n",
              "  background-color: #79abd0;\n",
              "  color: #f1f1f1;\n",
              "}\n",
              "#T_7d8e9_row5_col3 {\n",
              "  background-color: #6da6cd;\n",
              "  color: #f1f1f1;\n",
              "}\n",
              "#T_7d8e9_row5_col6 {\n",
              "  background-color: #dad9ea;\n",
              "  color: #000000;\n",
              "}\n",
              "#T_7d8e9_row5_col7 {\n",
              "  background-color: #0872b1;\n",
              "  color: #f1f1f1;\n",
              "}\n",
              "#T_7d8e9_row6_col0 {\n",
              "  background-color: #f3edf5;\n",
              "  color: #000000;\n",
              "}\n",
              "#T_7d8e9_row7_col0 {\n",
              "  background-color: #4295c3;\n",
              "  color: #f1f1f1;\n",
              "}\n",
              "#T_7d8e9_row7_col1 {\n",
              "  background-color: #3d93c2;\n",
              "  color: #f1f1f1;\n",
              "}\n",
              "#T_7d8e9_row7_col2 {\n",
              "  background-color: #84b0d3;\n",
              "  color: #f1f1f1;\n",
              "}\n",
              "#T_7d8e9_row7_col3 {\n",
              "  background-color: #81aed2;\n",
              "  color: #f1f1f1;\n",
              "}\n",
              "#T_7d8e9_row7_col4 {\n",
              "  background-color: #8eb3d5;\n",
              "  color: #000000;\n",
              "}\n",
              "#T_7d8e9_row7_col5 {\n",
              "  background-color: #056dac;\n",
              "  color: #f1f1f1;\n",
              "}\n",
              "#T_7d8e9_row7_col6 {\n",
              "  background-color: #c8cde4;\n",
              "  color: #000000;\n",
              "}\n",
              "</style>\n",
              "<table id=\"T_7d8e9\" class=\"dataframe\">\n",
              "  <thead>\n",
              "    <tr>\n",
              "      <th class=\"blank level0\" >&nbsp;</th>\n",
              "      <th id=\"T_7d8e9_level0_col0\" class=\"col_heading level0 col0\" >gre_score</th>\n",
              "      <th id=\"T_7d8e9_level0_col1\" class=\"col_heading level0 col1\" >toefl_score</th>\n",
              "      <th id=\"T_7d8e9_level0_col2\" class=\"col_heading level0 col2\" >univ_ranking</th>\n",
              "      <th id=\"T_7d8e9_level0_col3\" class=\"col_heading level0 col3\" >motiv_letter_strength</th>\n",
              "      <th id=\"T_7d8e9_level0_col4\" class=\"col_heading level0 col4\" >recommendation_strength</th>\n",
              "      <th id=\"T_7d8e9_level0_col5\" class=\"col_heading level0 col5\" >gpa</th>\n",
              "      <th id=\"T_7d8e9_level0_col6\" class=\"col_heading level0 col6\" >research_exp</th>\n",
              "      <th id=\"T_7d8e9_level0_col7\" class=\"col_heading level0 col7\" >admit_prob</th>\n",
              "    </tr>\n",
              "  </thead>\n",
              "  <tbody>\n",
              "    <tr>\n",
              "      <th id=\"T_7d8e9_level0_row0\" class=\"row_heading level0 row0\" >gre_score</th>\n",
              "      <td id=\"T_7d8e9_row0_col0\" class=\"data row0 col0\" >1.00</td>\n",
              "      <td id=\"T_7d8e9_row0_col1\" class=\"data row0 col1\" >0.83</td>\n",
              "      <td id=\"T_7d8e9_row0_col2\" class=\"data row0 col2\" >0.64</td>\n",
              "      <td id=\"T_7d8e9_row0_col3\" class=\"data row0 col3\" >0.61</td>\n",
              "      <td id=\"T_7d8e9_row0_col4\" class=\"data row0 col4\" >0.52</td>\n",
              "      <td id=\"T_7d8e9_row0_col5\" class=\"data row0 col5\" >0.83</td>\n",
              "      <td id=\"T_7d8e9_row0_col6\" class=\"data row0 col6\" >0.56</td>\n",
              "      <td id=\"T_7d8e9_row0_col7\" class=\"data row0 col7\" >0.81</td>\n",
              "    </tr>\n",
              "    <tr>\n",
              "      <th id=\"T_7d8e9_level0_row1\" class=\"row_heading level0 row1\" >toefl_score</th>\n",
              "      <td id=\"T_7d8e9_row1_col0\" class=\"data row1 col0\" >0.83</td>\n",
              "      <td id=\"T_7d8e9_row1_col1\" class=\"data row1 col1\" >1.00</td>\n",
              "      <td id=\"T_7d8e9_row1_col2\" class=\"data row1 col2\" >0.65</td>\n",
              "      <td id=\"T_7d8e9_row1_col3\" class=\"data row1 col3\" >0.64</td>\n",
              "      <td id=\"T_7d8e9_row1_col4\" class=\"data row1 col4\" >0.54</td>\n",
              "      <td id=\"T_7d8e9_row1_col5\" class=\"data row1 col5\" >0.81</td>\n",
              "      <td id=\"T_7d8e9_row1_col6\" class=\"data row1 col6\" >0.47</td>\n",
              "      <td id=\"T_7d8e9_row1_col7\" class=\"data row1 col7\" >0.79</td>\n",
              "    </tr>\n",
              "    <tr>\n",
              "      <th id=\"T_7d8e9_level0_row2\" class=\"row_heading level0 row2\" >univ_ranking</th>\n",
              "      <td id=\"T_7d8e9_row2_col0\" class=\"data row2 col0\" >0.64</td>\n",
              "      <td id=\"T_7d8e9_row2_col1\" class=\"data row2 col1\" >0.65</td>\n",
              "      <td id=\"T_7d8e9_row2_col2\" class=\"data row2 col2\" >1.00</td>\n",
              "      <td id=\"T_7d8e9_row2_col3\" class=\"data row2 col3\" >0.73</td>\n",
              "      <td id=\"T_7d8e9_row2_col4\" class=\"data row2 col4\" >0.61</td>\n",
              "      <td id=\"T_7d8e9_row2_col5\" class=\"data row2 col5\" >0.71</td>\n",
              "      <td id=\"T_7d8e9_row2_col6\" class=\"data row2 col6\" >0.43</td>\n",
              "      <td id=\"T_7d8e9_row2_col7\" class=\"data row2 col7\" >0.69</td>\n",
              "    </tr>\n",
              "    <tr>\n",
              "      <th id=\"T_7d8e9_level0_row3\" class=\"row_heading level0 row3\" >motiv_letter_strength</th>\n",
              "      <td id=\"T_7d8e9_row3_col0\" class=\"data row3 col0\" >0.61</td>\n",
              "      <td id=\"T_7d8e9_row3_col1\" class=\"data row3 col1\" >0.64</td>\n",
              "      <td id=\"T_7d8e9_row3_col2\" class=\"data row3 col2\" >0.73</td>\n",
              "      <td id=\"T_7d8e9_row3_col3\" class=\"data row3 col3\" >1.00</td>\n",
              "      <td id=\"T_7d8e9_row3_col4\" class=\"data row3 col4\" >0.66</td>\n",
              "      <td id=\"T_7d8e9_row3_col5\" class=\"data row3 col5\" >0.71</td>\n",
              "      <td id=\"T_7d8e9_row3_col6\" class=\"data row3 col6\" >0.41</td>\n",
              "      <td id=\"T_7d8e9_row3_col7\" class=\"data row3 col7\" >0.68</td>\n",
              "    </tr>\n",
              "    <tr>\n",
              "      <th id=\"T_7d8e9_level0_row4\" class=\"row_heading level0 row4\" >recommendation_strength</th>\n",
              "      <td id=\"T_7d8e9_row4_col0\" class=\"data row4 col0\" >0.52</td>\n",
              "      <td id=\"T_7d8e9_row4_col1\" class=\"data row4 col1\" >0.54</td>\n",
              "      <td id=\"T_7d8e9_row4_col2\" class=\"data row4 col2\" >0.61</td>\n",
              "      <td id=\"T_7d8e9_row4_col3\" class=\"data row4 col3\" >0.66</td>\n",
              "      <td id=\"T_7d8e9_row4_col4\" class=\"data row4 col4\" >1.00</td>\n",
              "      <td id=\"T_7d8e9_row4_col5\" class=\"data row4 col5\" >0.64</td>\n",
              "      <td id=\"T_7d8e9_row4_col6\" class=\"data row4 col6\" >0.37</td>\n",
              "      <td id=\"T_7d8e9_row4_col7\" class=\"data row4 col7\" >0.65</td>\n",
              "    </tr>\n",
              "    <tr>\n",
              "      <th id=\"T_7d8e9_level0_row5\" class=\"row_heading level0 row5\" >gpa</th>\n",
              "      <td id=\"T_7d8e9_row5_col0\" class=\"data row5 col0\" >0.83</td>\n",
              "      <td id=\"T_7d8e9_row5_col1\" class=\"data row5 col1\" >0.81</td>\n",
              "      <td id=\"T_7d8e9_row5_col2\" class=\"data row5 col2\" >0.71</td>\n",
              "      <td id=\"T_7d8e9_row5_col3\" class=\"data row5 col3\" >0.71</td>\n",
              "      <td id=\"T_7d8e9_row5_col4\" class=\"data row5 col4\" >0.64</td>\n",
              "      <td id=\"T_7d8e9_row5_col5\" class=\"data row5 col5\" >1.00</td>\n",
              "      <td id=\"T_7d8e9_row5_col6\" class=\"data row5 col6\" >0.50</td>\n",
              "      <td id=\"T_7d8e9_row5_col7\" class=\"data row5 col7\" >0.88</td>\n",
              "    </tr>\n",
              "    <tr>\n",
              "      <th id=\"T_7d8e9_level0_row6\" class=\"row_heading level0 row6\" >research_exp</th>\n",
              "      <td id=\"T_7d8e9_row6_col0\" class=\"data row6 col0\" >0.56</td>\n",
              "      <td id=\"T_7d8e9_row6_col1\" class=\"data row6 col1\" >0.47</td>\n",
              "      <td id=\"T_7d8e9_row6_col2\" class=\"data row6 col2\" >0.43</td>\n",
              "      <td id=\"T_7d8e9_row6_col3\" class=\"data row6 col3\" >0.41</td>\n",
              "      <td id=\"T_7d8e9_row6_col4\" class=\"data row6 col4\" >0.37</td>\n",
              "      <td id=\"T_7d8e9_row6_col5\" class=\"data row6 col5\" >0.50</td>\n",
              "      <td id=\"T_7d8e9_row6_col6\" class=\"data row6 col6\" >1.00</td>\n",
              "      <td id=\"T_7d8e9_row6_col7\" class=\"data row6 col7\" >0.55</td>\n",
              "    </tr>\n",
              "    <tr>\n",
              "      <th id=\"T_7d8e9_level0_row7\" class=\"row_heading level0 row7\" >admit_prob</th>\n",
              "      <td id=\"T_7d8e9_row7_col0\" class=\"data row7 col0\" >0.81</td>\n",
              "      <td id=\"T_7d8e9_row7_col1\" class=\"data row7 col1\" >0.79</td>\n",
              "      <td id=\"T_7d8e9_row7_col2\" class=\"data row7 col2\" >0.69</td>\n",
              "      <td id=\"T_7d8e9_row7_col3\" class=\"data row7 col3\" >0.68</td>\n",
              "      <td id=\"T_7d8e9_row7_col4\" class=\"data row7 col4\" >0.65</td>\n",
              "      <td id=\"T_7d8e9_row7_col5\" class=\"data row7 col5\" >0.88</td>\n",
              "      <td id=\"T_7d8e9_row7_col6\" class=\"data row7 col6\" >0.55</td>\n",
              "      <td id=\"T_7d8e9_row7_col7\" class=\"data row7 col7\" >1.00</td>\n",
              "    </tr>\n",
              "  </tbody>\n",
              "</table>\n"
            ]
          },
          "metadata": {},
          "execution_count": 11
        }
      ]
    },
    {
      "cell_type": "code",
      "source": [
        "# Define the independent variable and dependent variable\n",
        "X = dataset.drop(columns='admit_prob')\n",
        "y = dataset[['admit_prob']]"
      ],
      "metadata": {
        "id": "CCUPeADH2nn9"
      },
      "execution_count": null,
      "outputs": []
    },
    {
      "cell_type": "code",
      "source": [
        "# Split dataset into train data and test data\n",
        "X_train, X_test, y_train, y_test = train_test_split(X, y, test_size=0.2,\n",
        "                                                    random_state=42)"
      ],
      "metadata": {
        "id": "_g3Ek7Dc2qBT"
      },
      "execution_count": null,
      "outputs": []
    },
    {
      "cell_type": "code",
      "source": [
        "len(X_train)"
      ],
      "metadata": {
        "colab": {
          "base_uri": "https://localhost:8080/"
        },
        "id": "iEej2NuuFTzE",
        "outputId": "b0ae3a76-d5c5-4d2b-f124-ab71fffb044f"
      },
      "execution_count": null,
      "outputs": [
        {
          "output_type": "execute_result",
          "data": {
            "text/plain": [
              "400"
            ]
          },
          "metadata": {},
          "execution_count": 58
        }
      ]
    },
    {
      "cell_type": "code",
      "source": [
        "len(X_test)"
      ],
      "metadata": {
        "colab": {
          "base_uri": "https://localhost:8080/"
        },
        "id": "sdLgTJV2FWnq",
        "outputId": "ddff71fb-8b94-4273-87ba-6e4f7e4763f5"
      },
      "execution_count": null,
      "outputs": [
        {
          "output_type": "execute_result",
          "data": {
            "text/plain": [
              "100"
            ]
          },
          "metadata": {},
          "execution_count": 59
        }
      ]
    },
    {
      "cell_type": "code",
      "source": [
        "len(y_train)"
      ],
      "metadata": {
        "colab": {
          "base_uri": "https://localhost:8080/"
        },
        "id": "-KMPQ7utXp6D",
        "outputId": "f2446f13-88c6-4d6f-e332-4e18e17bc8eb"
      },
      "execution_count": null,
      "outputs": [
        {
          "output_type": "execute_result",
          "data": {
            "text/plain": [
              "400"
            ]
          },
          "metadata": {},
          "execution_count": 60
        }
      ]
    },
    {
      "cell_type": "code",
      "source": [
        "len(y_test)"
      ],
      "metadata": {
        "colab": {
          "base_uri": "https://localhost:8080/"
        },
        "id": "ugrzCrAcXu82",
        "outputId": "7d595955-354a-4c86-de2d-47dbc26db057"
      },
      "execution_count": null,
      "outputs": [
        {
          "output_type": "execute_result",
          "data": {
            "text/plain": [
              "100"
            ]
          },
          "metadata": {},
          "execution_count": 61
        }
      ]
    },
    {
      "cell_type": "markdown",
      "source": [
        "## Modeling"
      ],
      "metadata": {
        "id": "WffvaVoJ7bsf"
      }
    },
    {
      "cell_type": "code",
      "source": [
        "# convert data into numpy arrays\n",
        "X_train = X_train.to_numpy()\n",
        "y_train = y_train.to_numpy().ravel()"
      ],
      "metadata": {
        "id": "SNOo_dhC43P9"
      },
      "execution_count": null,
      "outputs": []
    },
    {
      "cell_type": "code",
      "source": [
        "# Modeling\n",
        "linreg = LinearRegression()\n",
        "linreg.fit(X_train, y_train)"
      ],
      "metadata": {
        "colab": {
          "base_uri": "https://localhost:8080/",
          "height": 74
        },
        "id": "wGPBQvNo2tgK",
        "outputId": "d54fc09b-8f1d-47e9-f85b-eaed050d6a84"
      },
      "execution_count": null,
      "outputs": [
        {
          "output_type": "execute_result",
          "data": {
            "text/plain": [
              "LinearRegression()"
            ],
            "text/html": [
              "<style>#sk-container-id-2 {color: black;background-color: white;}#sk-container-id-2 pre{padding: 0;}#sk-container-id-2 div.sk-toggleable {background-color: white;}#sk-container-id-2 label.sk-toggleable__label {cursor: pointer;display: block;width: 100%;margin-bottom: 0;padding: 0.3em;box-sizing: border-box;text-align: center;}#sk-container-id-2 label.sk-toggleable__label-arrow:before {content: \"▸\";float: left;margin-right: 0.25em;color: #696969;}#sk-container-id-2 label.sk-toggleable__label-arrow:hover:before {color: black;}#sk-container-id-2 div.sk-estimator:hover label.sk-toggleable__label-arrow:before {color: black;}#sk-container-id-2 div.sk-toggleable__content {max-height: 0;max-width: 0;overflow: hidden;text-align: left;background-color: #f0f8ff;}#sk-container-id-2 div.sk-toggleable__content pre {margin: 0.2em;color: black;border-radius: 0.25em;background-color: #f0f8ff;}#sk-container-id-2 input.sk-toggleable__control:checked~div.sk-toggleable__content {max-height: 200px;max-width: 100%;overflow: auto;}#sk-container-id-2 input.sk-toggleable__control:checked~label.sk-toggleable__label-arrow:before {content: \"▾\";}#sk-container-id-2 div.sk-estimator input.sk-toggleable__control:checked~label.sk-toggleable__label {background-color: #d4ebff;}#sk-container-id-2 div.sk-label input.sk-toggleable__control:checked~label.sk-toggleable__label {background-color: #d4ebff;}#sk-container-id-2 input.sk-hidden--visually {border: 0;clip: rect(1px 1px 1px 1px);clip: rect(1px, 1px, 1px, 1px);height: 1px;margin: -1px;overflow: hidden;padding: 0;position: absolute;width: 1px;}#sk-container-id-2 div.sk-estimator {font-family: monospace;background-color: #f0f8ff;border: 1px dotted black;border-radius: 0.25em;box-sizing: border-box;margin-bottom: 0.5em;}#sk-container-id-2 div.sk-estimator:hover {background-color: #d4ebff;}#sk-container-id-2 div.sk-parallel-item::after {content: \"\";width: 100%;border-bottom: 1px solid gray;flex-grow: 1;}#sk-container-id-2 div.sk-label:hover label.sk-toggleable__label {background-color: #d4ebff;}#sk-container-id-2 div.sk-serial::before {content: \"\";position: absolute;border-left: 1px solid gray;box-sizing: border-box;top: 0;bottom: 0;left: 50%;z-index: 0;}#sk-container-id-2 div.sk-serial {display: flex;flex-direction: column;align-items: center;background-color: white;padding-right: 0.2em;padding-left: 0.2em;position: relative;}#sk-container-id-2 div.sk-item {position: relative;z-index: 1;}#sk-container-id-2 div.sk-parallel {display: flex;align-items: stretch;justify-content: center;background-color: white;position: relative;}#sk-container-id-2 div.sk-item::before, #sk-container-id-2 div.sk-parallel-item::before {content: \"\";position: absolute;border-left: 1px solid gray;box-sizing: border-box;top: 0;bottom: 0;left: 50%;z-index: -1;}#sk-container-id-2 div.sk-parallel-item {display: flex;flex-direction: column;z-index: 1;position: relative;background-color: white;}#sk-container-id-2 div.sk-parallel-item:first-child::after {align-self: flex-end;width: 50%;}#sk-container-id-2 div.sk-parallel-item:last-child::after {align-self: flex-start;width: 50%;}#sk-container-id-2 div.sk-parallel-item:only-child::after {width: 0;}#sk-container-id-2 div.sk-dashed-wrapped {border: 1px dashed gray;margin: 0 0.4em 0.5em 0.4em;box-sizing: border-box;padding-bottom: 0.4em;background-color: white;}#sk-container-id-2 div.sk-label label {font-family: monospace;font-weight: bold;display: inline-block;line-height: 1.2em;}#sk-container-id-2 div.sk-label-container {text-align: center;}#sk-container-id-2 div.sk-container {/* jupyter's `normalize.less` sets `[hidden] { display: none; }` but bootstrap.min.css set `[hidden] { display: none !important; }` so we also need the `!important` here to be able to override the default hidden behavior on the sphinx rendered scikit-learn.org. See: https://github.com/scikit-learn/scikit-learn/issues/21755 */display: inline-block !important;position: relative;}#sk-container-id-2 div.sk-text-repr-fallback {display: none;}</style><div id=\"sk-container-id-2\" class=\"sk-top-container\"><div class=\"sk-text-repr-fallback\"><pre>LinearRegression()</pre><b>In a Jupyter environment, please rerun this cell to show the HTML representation or trust the notebook. <br />On GitHub, the HTML representation is unable to render, please try loading this page with nbviewer.org.</b></div><div class=\"sk-container\" hidden><div class=\"sk-item\"><div class=\"sk-estimator sk-toggleable\"><input class=\"sk-toggleable__control sk-hidden--visually\" id=\"sk-estimator-id-2\" type=\"checkbox\" checked><label for=\"sk-estimator-id-2\" class=\"sk-toggleable__label sk-toggleable__label-arrow\">LinearRegression</label><div class=\"sk-toggleable__content\"><pre>LinearRegression()</pre></div></div></div></div></div>"
            ]
          },
          "metadata": {},
          "execution_count": 35
        }
      ]
    },
    {
      "cell_type": "code",
      "source": [
        "# Coefficients dan Intercept\n",
        "print(\"Coefficients:\", linreg.coef_)\n",
        "print(\"Intercept:\", linreg.intercept_)"
      ],
      "metadata": {
        "colab": {
          "base_uri": "https://localhost:8080/"
        },
        "id": "Mg2eazU724r2",
        "outputId": "18968df2-dcdc-4daa-b461-b026685916bb"
      },
      "execution_count": null,
      "outputs": [
        {
          "output_type": "stream",
          "name": "stdout",
          "text": [
            "Coefficients: [0.00243444 0.00299587 0.0025688  0.00181369 0.01723798 0.11252708\n",
            " 0.02402679]\n",
            "Intercept: -1.4214470719016465\n"
          ]
        }
      ]
    },
    {
      "cell_type": "code",
      "source": [
        "# retrieve the coefficients\n",
        "# show as a nice dataframe\n",
        "\n",
        "coef_dict = {\n",
        "    'features':['intercept'] + X.columns.tolist(),\n",
        "    'coefficient':[linreg.intercept_] + list(linreg.coef_)\n",
        "}\n",
        "coef_df = pd.DataFrame(coef_dict, columns=['features', 'coefficient'])\n",
        "coef_df"
      ],
      "metadata": {
        "colab": {
          "base_uri": "https://localhost:8080/",
          "height": 300
        },
        "id": "dwvMI9bZ5xaf",
        "outputId": "0aecaa7a-0bb0-4be3-9aff-2e0b5c23bcb0"
      },
      "execution_count": null,
      "outputs": [
        {
          "output_type": "execute_result",
          "data": {
            "text/plain": [
              "                  features  coefficient\n",
              "0                intercept    -1.421447\n",
              "1                gre_score     0.002434\n",
              "2              toefl_score     0.002996\n",
              "3             univ_ranking     0.002569\n",
              "4    motiv_letter_strength     0.001814\n",
              "5  recommendation_strength     0.017238\n",
              "6                      gpa     0.112527\n",
              "7             research_exp     0.024027"
            ],
            "text/html": [
              "\n",
              "  <div id=\"df-b029d11e-a334-4a56-b73e-7b9c48f4a1c3\" class=\"colab-df-container\">\n",
              "    <div>\n",
              "<style scoped>\n",
              "    .dataframe tbody tr th:only-of-type {\n",
              "        vertical-align: middle;\n",
              "    }\n",
              "\n",
              "    .dataframe tbody tr th {\n",
              "        vertical-align: top;\n",
              "    }\n",
              "\n",
              "    .dataframe thead th {\n",
              "        text-align: right;\n",
              "    }\n",
              "</style>\n",
              "<table border=\"1\" class=\"dataframe\">\n",
              "  <thead>\n",
              "    <tr style=\"text-align: right;\">\n",
              "      <th></th>\n",
              "      <th>features</th>\n",
              "      <th>coefficient</th>\n",
              "    </tr>\n",
              "  </thead>\n",
              "  <tbody>\n",
              "    <tr>\n",
              "      <th>0</th>\n",
              "      <td>intercept</td>\n",
              "      <td>-1.421447</td>\n",
              "    </tr>\n",
              "    <tr>\n",
              "      <th>1</th>\n",
              "      <td>gre_score</td>\n",
              "      <td>0.002434</td>\n",
              "    </tr>\n",
              "    <tr>\n",
              "      <th>2</th>\n",
              "      <td>toefl_score</td>\n",
              "      <td>0.002996</td>\n",
              "    </tr>\n",
              "    <tr>\n",
              "      <th>3</th>\n",
              "      <td>univ_ranking</td>\n",
              "      <td>0.002569</td>\n",
              "    </tr>\n",
              "    <tr>\n",
              "      <th>4</th>\n",
              "      <td>motiv_letter_strength</td>\n",
              "      <td>0.001814</td>\n",
              "    </tr>\n",
              "    <tr>\n",
              "      <th>5</th>\n",
              "      <td>recommendation_strength</td>\n",
              "      <td>0.017238</td>\n",
              "    </tr>\n",
              "    <tr>\n",
              "      <th>6</th>\n",
              "      <td>gpa</td>\n",
              "      <td>0.112527</td>\n",
              "    </tr>\n",
              "    <tr>\n",
              "      <th>7</th>\n",
              "      <td>research_exp</td>\n",
              "      <td>0.024027</td>\n",
              "    </tr>\n",
              "  </tbody>\n",
              "</table>\n",
              "</div>\n",
              "    <div class=\"colab-df-buttons\">\n",
              "\n",
              "  <div class=\"colab-df-container\">\n",
              "    <button class=\"colab-df-convert\" onclick=\"convertToInteractive('df-b029d11e-a334-4a56-b73e-7b9c48f4a1c3')\"\n",
              "            title=\"Convert this dataframe to an interactive table.\"\n",
              "            style=\"display:none;\">\n",
              "\n",
              "  <svg xmlns=\"http://www.w3.org/2000/svg\" height=\"24px\" viewBox=\"0 -960 960 960\">\n",
              "    <path d=\"M120-120v-720h720v720H120Zm60-500h600v-160H180v160Zm220 220h160v-160H400v160Zm0 220h160v-160H400v160ZM180-400h160v-160H180v160Zm440 0h160v-160H620v160ZM180-180h160v-160H180v160Zm440 0h160v-160H620v160Z\"/>\n",
              "  </svg>\n",
              "    </button>\n",
              "\n",
              "  <style>\n",
              "    .colab-df-container {\n",
              "      display:flex;\n",
              "      gap: 12px;\n",
              "    }\n",
              "\n",
              "    .colab-df-convert {\n",
              "      background-color: #E8F0FE;\n",
              "      border: none;\n",
              "      border-radius: 50%;\n",
              "      cursor: pointer;\n",
              "      display: none;\n",
              "      fill: #1967D2;\n",
              "      height: 32px;\n",
              "      padding: 0 0 0 0;\n",
              "      width: 32px;\n",
              "    }\n",
              "\n",
              "    .colab-df-convert:hover {\n",
              "      background-color: #E2EBFA;\n",
              "      box-shadow: 0px 1px 2px rgba(60, 64, 67, 0.3), 0px 1px 3px 1px rgba(60, 64, 67, 0.15);\n",
              "      fill: #174EA6;\n",
              "    }\n",
              "\n",
              "    .colab-df-buttons div {\n",
              "      margin-bottom: 4px;\n",
              "    }\n",
              "\n",
              "    [theme=dark] .colab-df-convert {\n",
              "      background-color: #3B4455;\n",
              "      fill: #D2E3FC;\n",
              "    }\n",
              "\n",
              "    [theme=dark] .colab-df-convert:hover {\n",
              "      background-color: #434B5C;\n",
              "      box-shadow: 0px 1px 3px 1px rgba(0, 0, 0, 0.15);\n",
              "      filter: drop-shadow(0px 1px 2px rgba(0, 0, 0, 0.3));\n",
              "      fill: #FFFFFF;\n",
              "    }\n",
              "  </style>\n",
              "\n",
              "    <script>\n",
              "      const buttonEl =\n",
              "        document.querySelector('#df-b029d11e-a334-4a56-b73e-7b9c48f4a1c3 button.colab-df-convert');\n",
              "      buttonEl.style.display =\n",
              "        google.colab.kernel.accessAllowed ? 'block' : 'none';\n",
              "\n",
              "      async function convertToInteractive(key) {\n",
              "        const element = document.querySelector('#df-b029d11e-a334-4a56-b73e-7b9c48f4a1c3');\n",
              "        const dataTable =\n",
              "          await google.colab.kernel.invokeFunction('convertToInteractive',\n",
              "                                                    [key], {});\n",
              "        if (!dataTable) return;\n",
              "\n",
              "        const docLinkHtml = 'Like what you see? Visit the ' +\n",
              "          '<a target=\"_blank\" href=https://colab.research.google.com/notebooks/data_table.ipynb>data table notebook</a>'\n",
              "          + ' to learn more about interactive tables.';\n",
              "        element.innerHTML = '';\n",
              "        dataTable['output_type'] = 'display_data';\n",
              "        await google.colab.output.renderOutput(dataTable, element);\n",
              "        const docLink = document.createElement('div');\n",
              "        docLink.innerHTML = docLinkHtml;\n",
              "        element.appendChild(docLink);\n",
              "      }\n",
              "    </script>\n",
              "  </div>\n",
              "\n",
              "\n",
              "<div id=\"df-6a553768-ba11-4a28-9fac-ddc757c731c6\">\n",
              "  <button class=\"colab-df-quickchart\" onclick=\"quickchart('df-6a553768-ba11-4a28-9fac-ddc757c731c6')\"\n",
              "            title=\"Suggest charts\"\n",
              "            style=\"display:none;\">\n",
              "\n",
              "<svg xmlns=\"http://www.w3.org/2000/svg\" height=\"24px\"viewBox=\"0 0 24 24\"\n",
              "     width=\"24px\">\n",
              "    <g>\n",
              "        <path d=\"M19 3H5c-1.1 0-2 .9-2 2v14c0 1.1.9 2 2 2h14c1.1 0 2-.9 2-2V5c0-1.1-.9-2-2-2zM9 17H7v-7h2v7zm4 0h-2V7h2v10zm4 0h-2v-4h2v4z\"/>\n",
              "    </g>\n",
              "</svg>\n",
              "  </button>\n",
              "\n",
              "<style>\n",
              "  .colab-df-quickchart {\n",
              "      --bg-color: #E8F0FE;\n",
              "      --fill-color: #1967D2;\n",
              "      --hover-bg-color: #E2EBFA;\n",
              "      --hover-fill-color: #174EA6;\n",
              "      --disabled-fill-color: #AAA;\n",
              "      --disabled-bg-color: #DDD;\n",
              "  }\n",
              "\n",
              "  [theme=dark] .colab-df-quickchart {\n",
              "      --bg-color: #3B4455;\n",
              "      --fill-color: #D2E3FC;\n",
              "      --hover-bg-color: #434B5C;\n",
              "      --hover-fill-color: #FFFFFF;\n",
              "      --disabled-bg-color: #3B4455;\n",
              "      --disabled-fill-color: #666;\n",
              "  }\n",
              "\n",
              "  .colab-df-quickchart {\n",
              "    background-color: var(--bg-color);\n",
              "    border: none;\n",
              "    border-radius: 50%;\n",
              "    cursor: pointer;\n",
              "    display: none;\n",
              "    fill: var(--fill-color);\n",
              "    height: 32px;\n",
              "    padding: 0;\n",
              "    width: 32px;\n",
              "  }\n",
              "\n",
              "  .colab-df-quickchart:hover {\n",
              "    background-color: var(--hover-bg-color);\n",
              "    box-shadow: 0 1px 2px rgba(60, 64, 67, 0.3), 0 1px 3px 1px rgba(60, 64, 67, 0.15);\n",
              "    fill: var(--button-hover-fill-color);\n",
              "  }\n",
              "\n",
              "  .colab-df-quickchart-complete:disabled,\n",
              "  .colab-df-quickchart-complete:disabled:hover {\n",
              "    background-color: var(--disabled-bg-color);\n",
              "    fill: var(--disabled-fill-color);\n",
              "    box-shadow: none;\n",
              "  }\n",
              "\n",
              "  .colab-df-spinner {\n",
              "    border: 2px solid var(--fill-color);\n",
              "    border-color: transparent;\n",
              "    border-bottom-color: var(--fill-color);\n",
              "    animation:\n",
              "      spin 1s steps(1) infinite;\n",
              "  }\n",
              "\n",
              "  @keyframes spin {\n",
              "    0% {\n",
              "      border-color: transparent;\n",
              "      border-bottom-color: var(--fill-color);\n",
              "      border-left-color: var(--fill-color);\n",
              "    }\n",
              "    20% {\n",
              "      border-color: transparent;\n",
              "      border-left-color: var(--fill-color);\n",
              "      border-top-color: var(--fill-color);\n",
              "    }\n",
              "    30% {\n",
              "      border-color: transparent;\n",
              "      border-left-color: var(--fill-color);\n",
              "      border-top-color: var(--fill-color);\n",
              "      border-right-color: var(--fill-color);\n",
              "    }\n",
              "    40% {\n",
              "      border-color: transparent;\n",
              "      border-right-color: var(--fill-color);\n",
              "      border-top-color: var(--fill-color);\n",
              "    }\n",
              "    60% {\n",
              "      border-color: transparent;\n",
              "      border-right-color: var(--fill-color);\n",
              "    }\n",
              "    80% {\n",
              "      border-color: transparent;\n",
              "      border-right-color: var(--fill-color);\n",
              "      border-bottom-color: var(--fill-color);\n",
              "    }\n",
              "    90% {\n",
              "      border-color: transparent;\n",
              "      border-bottom-color: var(--fill-color);\n",
              "    }\n",
              "  }\n",
              "</style>\n",
              "\n",
              "  <script>\n",
              "    async function quickchart(key) {\n",
              "      const quickchartButtonEl =\n",
              "        document.querySelector('#' + key + ' button');\n",
              "      quickchartButtonEl.disabled = true;  // To prevent multiple clicks.\n",
              "      quickchartButtonEl.classList.add('colab-df-spinner');\n",
              "      try {\n",
              "        const charts = await google.colab.kernel.invokeFunction(\n",
              "            'suggestCharts', [key], {});\n",
              "      } catch (error) {\n",
              "        console.error('Error during call to suggestCharts:', error);\n",
              "      }\n",
              "      quickchartButtonEl.classList.remove('colab-df-spinner');\n",
              "      quickchartButtonEl.classList.add('colab-df-quickchart-complete');\n",
              "    }\n",
              "    (() => {\n",
              "      let quickchartButtonEl =\n",
              "        document.querySelector('#df-6a553768-ba11-4a28-9fac-ddc757c731c6 button');\n",
              "      quickchartButtonEl.style.display =\n",
              "        google.colab.kernel.accessAllowed ? 'block' : 'none';\n",
              "    })();\n",
              "  </script>\n",
              "</div>\n",
              "    </div>\n",
              "  </div>\n"
            ]
          },
          "metadata": {},
          "execution_count": 38
        }
      ]
    },
    {
      "cell_type": "markdown",
      "source": [
        "## Prediction and Evaluation"
      ],
      "metadata": {
        "id": "MZFe6Ay-7Vp0"
      }
    },
    {
      "cell_type": "code",
      "source": [
        "# create prediction vector on training data\n",
        "y_pred_train = linreg.predict(X_train)\n",
        "\n",
        "print('MAE for traning_data is {}'.format(mean_absolute_error(y_train, y_pred_train)))\n",
        "print('MAPE for traning_data is {}'.format(mean_absolute_percentage_error(y_train, y_pred_train)))"
      ],
      "metadata": {
        "colab": {
          "base_uri": "https://localhost:8080/"
        },
        "id": "w09q0jSEg_BR",
        "outputId": "2205d0f0-f321-4976-ceaf-e9044b6c7e2b"
      },
      "execution_count": null,
      "outputs": [
        {
          "output_type": "stream",
          "name": "stdout",
          "text": [
            "MAE for traning_data is 0.04253334061164317\n",
            "MAPE for traning_data is 0.06848166838244786\n"
          ]
        }
      ]
    },
    {
      "cell_type": "code",
      "source": [
        "# prepare prediction result on test data\n",
        "X_test = X_test.to_numpy()\n",
        "y_test = y_test.to_numpy().ravel()"
      ],
      "metadata": {
        "id": "v64ZOSPBhWbC"
      },
      "execution_count": null,
      "outputs": []
    },
    {
      "cell_type": "code",
      "source": [
        "# model evaluation on test data\n",
        "\n",
        "# create prediction vector on training data\n",
        "y_pred_test = linreg.predict(X_test)\n",
        "\n",
        "print('MAE for test data is {}'.format(mean_absolute_error(y_test, y_pred_test)))\n",
        "print('MAPE for test data is {}'.format(mean_absolute_percentage_error(y_test, y_pred_test)))\n",
        "print('R-squared (R2) for test data is {}'.format(r2_score(y_test, y_pred_test)))"
      ],
      "metadata": {
        "colab": {
          "base_uri": "https://localhost:8080/"
        },
        "id": "K7qzB1OmgIDB",
        "outputId": "2f159d70-1d99-4855-f72e-722e70785178"
      },
      "execution_count": null,
      "outputs": [
        {
          "output_type": "stream",
          "name": "stdout",
          "text": [
            "MAE for test data is 0.042722654277053636\n",
            "MAPE for test data is 0.06857756648317814\n",
            "R-squared (R2) for test data is 0.8188432567829631\n"
          ]
        }
      ]
    },
    {
      "cell_type": "markdown",
      "source": [
        "## Visualization"
      ],
      "metadata": {
        "id": "RTUnJQjX7PT-"
      }
    },
    {
      "cell_type": "code",
      "source": [
        "# Visualization of the prediction result of testing data\n",
        "\n",
        "plt.scatter(y_test, y_pred_test)\n",
        "plt.plot([min(y_test), max(y_test)], [min(y_test), max(y_test)], color='red', linewidth=3)\n",
        "plt.xlabel('Actual Probability of Admit')\n",
        "plt.ylabel('Predicted Probability of Admit')\n",
        "plt.title('Actual vs Predicted Probability of Admit')\n",
        "plt.show()"
      ],
      "metadata": {
        "colab": {
          "base_uri": "https://localhost:8080/",
          "height": 472
        },
        "id": "mrioKvqqyPUK",
        "outputId": "d8f4fc91-d2cd-41a3-fce5-a5ff2002e612"
      },
      "execution_count": null,
      "outputs": [
        {
          "output_type": "display_data",
          "data": {
            "text/plain": [
              "<Figure size 640x480 with 1 Axes>"
            ],
            "image/png": "[encoded data removed]"
          },
          "metadata": {}
        }
      ]
    }
  ]
}